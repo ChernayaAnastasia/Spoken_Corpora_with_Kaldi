{
 "cells": [
  {
   "cell_type": "code",
   "execution_count": null,
   "metadata": {},
   "outputs": [],
   "source": [
    "import string\n",
    "import re\n",
    "from pymorphy2 import MorphAnalyzer\n",
    "import pprint\n",
    "import pandas as pd\n",
    "from pprint import pprint\n",
    "import numpy as np"
   ]
  },
  {
   "cell_type": "code",
   "execution_count": null,
   "metadata": {},
   "outputs": [],
   "source": [
    "#Читаем датасет:\n",
    "\n",
    "df_pic = pd.read_csv('Pic.csv', encoding=\"utf-8\", sep=\",\")\n",
    "df_sib = pd.read_csv('Sib.csv', encoding=\"utf-8\", sep=\",\")\n",
    "df_nds = pd.read_csv('NDS.csv', encoding=\"utf-8\", sep=\",\")"
   ]
  },
  {
   "cell_type": "code",
   "execution_count": null,
   "metadata": {},
   "outputs": [],
   "source": [
    "df_sib"
   ]
  },
  {
   "cell_type": "code",
   "execution_count": null,
   "metadata": {},
   "outputs": [],
   "source": [
    "#Убираем пустые строки:\n",
    "df_pic = df_pic.dropna()\n",
    "df_nds = df_nds.dropna() \n",
    "df_sib = df_sib.dropna() \n",
    "#df_nds.shape "
   ]
  },
  {
   "cell_type": "code",
   "execution_count": null,
   "metadata": {},
   "outputs": [],
   "source": [
    "df_sib.shape "
   ]
  },
  {
   "cell_type": "code",
   "execution_count": null,
   "metadata": {},
   "outputs": [],
   "source": [
    "#Берем наш текст из колонки Text:\n",
    "pic = str(df_pic[\"Text\"].values)\n",
    "sib = str(df_sib[\"Text\"].values)\n",
    "nds = str(df_nds[\"Text\"].values)"
   ]
  },
  {
   "cell_type": "code",
   "execution_count": null,
   "metadata": {},
   "outputs": [],
   "source": [
    "pic = re.sub(r'\\n','',pic)\n",
    "sib = re.sub(r'\\n','',sib)\n",
    "nds = re.sub(r'\\n','',nds)"
   ]
  },
  {
   "cell_type": "code",
   "execution_count": null,
   "metadata": {},
   "outputs": [],
   "source": [
    "len(nds)"
   ]
  },
  {
   "cell_type": "code",
   "execution_count": null,
   "metadata": {},
   "outputs": [],
   "source": [
    "#Функция для подсчета количества символов\\словоформ:\n",
    "#def text_length(text):\n",
    "#    count = 0\n",
    "#    for st in text:\n",
    "#        count = len(st)+count\n",
    "#    return count"
   ]
  },
  {
   "cell_type": "code",
   "execution_count": null,
   "metadata": {},
   "outputs": [],
   "source": []
  },
  {
   "cell_type": "code",
   "execution_count": null,
   "metadata": {},
   "outputs": [],
   "source": [
    "len_pic = text_length(pic)\n",
    "len_sib = text_length(sib)\n",
    "len_nds= text_length(nds)"
   ]
  },
  {
   "cell_type": "code",
   "execution_count": null,
   "metadata": {},
   "outputs": [],
   "source": [
    "print(\"Длина корпуса 'Рассказы о подарках и лыжах':\", len_pic ,'символа.')\n",
    "print(\"Длина корпуса 'Рассказы сибиряков':\", len_sib,'символов.')\n",
    "print(\"Длина корпуса 'Рассказы о сновидениях':\", len_nds, \"символов.\")\n",
    "print (\"Общий объем текстового датасета:\",len_pic +len_sib+len_nds, \"символа.\")"
   ]
  },
  {
   "cell_type": "code",
   "execution_count": null,
   "metadata": {},
   "outputs": [],
   "source": [
    "def normalize(text):\n",
    "    for i in range(len(text)):\n",
    "        text[i] = text[i].lower()\n",
    "        text[i] = re.sub(r'[“”—!\"\\',\\.:;\\?`―]', '', text[i]) \n",
    "        text[i] = text[i].split()\n",
    "    return text"
   ]
  },
  {
   "cell_type": "code",
   "execution_count": null,
   "metadata": {},
   "outputs": [],
   "source": [
    "normalized_pic = normalize(pic)"
   ]
  },
  {
   "cell_type": "code",
   "execution_count": null,
   "metadata": {},
   "outputs": [],
   "source": []
  },
  {
   "cell_type": "code",
   "execution_count": null,
   "metadata": {},
   "outputs": [],
   "source": [
    "normalized_sib = normalize(sib)"
   ]
  },
  {
   "cell_type": "code",
   "execution_count": null,
   "metadata": {},
   "outputs": [],
   "source": [
    "normalized_nds = normalize(nds)"
   ]
  },
  {
   "cell_type": "code",
   "execution_count": null,
   "metadata": {},
   "outputs": [],
   "source": [
    "print (\"Количество словоформ в корпусе 'Рассказы о подарках и лыжах':\", text_length(normalized_pic))\n",
    "print (\"Количество словоформ в корпусе 'Рассказы сибиряков':\", text_length(normalized_sib))\n",
    "print (\"Количество словоформ в корпусе 'Рассказы о сновидениях':\", text_length(normalized_nds))"
   ]
  },
  {
   "cell_type": "code",
   "execution_count": null,
   "metadata": {},
   "outputs": [],
   "source": [
    "unique_wordforms_pic = set(normalized_pic)\n",
    "unique_wordforms_sib = set(normalized_sib)\n",
    "unique_wordforms_sib = set(normalized_nds)\n",
    "\n",
    "#with open ('unique_wordforms_pic', 'w') as f: #Содаем новый файл, куда запишем уникальные словоформы \n",
    "#    f.write(str(unique_wordforms_pic)) #пишем в новый файл результат отработанного кода выше    \n",
    "        "
   ]
  },
  {
   "cell_type": "code",
   "execution_count": null,
   "metadata": {},
   "outputs": [],
   "source": [
    "#unique_wordforms_pic = sorted(set(map(tuple, normalized_pic)), reverse=True)"
   ]
  },
  {
   "cell_type": "code",
   "execution_count": null,
   "metadata": {},
   "outputs": [],
   "source": [
    "unique_wordforms_pic"
   ]
  },
  {
   "cell_type": "code",
   "execution_count": null,
   "metadata": {},
   "outputs": [],
   "source": []
  }
 ],
 "metadata": {
  "kernelspec": {
   "display_name": "Python 3",
   "language": "python",
   "name": "python3"
  },
  "language_info": {
   "codemirror_mode": {
    "name": "ipython",
    "version": 3
   },
   "file_extension": ".py",
   "mimetype": "text/x-python",
   "name": "python",
   "nbconvert_exporter": "python",
   "pygments_lexer": "ipython3",
   "version": "3.7.3"
  }
 },
 "nbformat": 4,
 "nbformat_minor": 2
}
