{
 "cells": [
  {
   "cell_type": "code",
   "execution_count": 1,
   "metadata": {},
   "outputs": [],
   "source": [
    "import pandas as pd\n",
    "import os"
   ]
  },
  {
   "cell_type": "code",
   "execution_count": 2,
   "metadata": {},
   "outputs": [],
   "source": [
    "os.chdir(\"/Users/Anastasia/Documents/Учеба в Вышке_Computer linguistics/Spokencorpora_with_Kaldi/GoldenStandard\")"
   ]
  },
  {
   "cell_type": "code",
   "execution_count": 3,
   "metadata": {},
   "outputs": [
    {
     "data": {
      "text/plain": [
       "'/Users/Anastasia/Documents/Учеба в Вышке_Computer linguistics/Spokencorpora_with_Kaldi/GoldenStandard'"
      ]
     },
     "execution_count": 3,
     "metadata": {},
     "output_type": "execute_result"
    }
   ],
   "source": [
    "os.getcwd() "
   ]
  },
  {
   "cell_type": "code",
   "execution_count": 4,
   "metadata": {},
   "outputs": [],
   "source": [
    "#Читаем датасет золотого стандарта:\n",
    "\n",
    "df_pic = pd.read_csv('Pic.csv', encoding=\"utf-8\", sep=\",\")\n",
    "df_sib = pd.read_csv('Sib.csv', encoding=\"utf-8\", sep=\",\")\n",
    "df_nds = pd.read_csv('NDS.csv', encoding=\"utf-8\", sep=\",\")"
   ]
  },
  {
   "cell_type": "code",
   "execution_count": 5,
   "metadata": {},
   "outputs": [],
   "source": [
    "#Убираем пустые строки:\n",
    "\n",
    "df_pic = df_pic.dropna()\n",
    "df_sib = df_sib.dropna()\n",
    "df_nds = df_nds.dropna() "
   ]
  },
  {
   "cell_type": "code",
   "execution_count": 6,
   "metadata": {},
   "outputs": [],
   "source": [
    "#Создаем копии золотого стандарта для распознанной речи с Kaldi: \n",
    "df_pic_alp = df_pic.copy()\n",
    "df_sib_alp = df_sib.copy()\n",
    "df_nds_alp = df_nds.copy()"
   ]
  },
  {
   "cell_type": "code",
   "execution_count": 7,
   "metadata": {},
   "outputs": [
    {
     "name": "stdout",
     "output_type": "stream",
     "text": [
      "(994, 2)\n",
      "(1227, 2)\n",
      "(730, 2)\n"
     ]
    }
   ],
   "source": [
    "print(df_pic_alp.shape)\n",
    "print(df_sib_alp.shape)\n",
    "print(df_nds_alp.shape)"
   ]
  },
  {
   "cell_type": "code",
   "execution_count": 8,
   "metadata": {},
   "outputs": [],
   "source": [
    "#Не удалось получить транскрипцию для файлов с другим кодеком - выбрасываем из золотого стандарта: \n",
    "\n",
    "df_pic_alp.drop(df_pic_alp.loc[df_pic_alp[\"ID\"] =='Pic-RUS_01-f_Pr-T.eaf'].index, inplace = True)\n",
    "df_pic_alp.drop(df_pic_alp.loc[df_pic_alp[\"ID\"] =='Pic-RUS_01-f_Ski-R.eaf'].index, inplace = True)\n",
    "df_pic_alp.drop(df_pic_alp.loc[df_pic_alp[\"ID\"] =='Pic-RUS_02-f_Pr-T.eaf'].index, inplace = True)\n",
    "df_pic_alp.drop(df_pic_alp.loc[df_pic_alp[\"ID\"] =='Pic-RUS_02-f_Ski-R.eaf'].index, inplace = True)\n",
    "df_pic_alp.drop(df_pic_alp.loc[df_pic_alp[\"ID\"] =='Pic-RUS_03-m_Pr-R.eaf'].index, inplace = True)\n",
    "df_pic_alp.drop(df_pic_alp.loc[df_pic_alp[\"ID\"] =='Pic-RUS_03-m_Pr-T.eaf'].index, inplace = True)\n",
    "df_pic_alp.drop(df_pic_alp.loc[df_pic_alp[\"ID\"] =='Pic-RUS_04-m_Pr-R.eaf'].index, inplace = True)\n",
    "df_pic_alp.drop(df_pic_alp.loc[df_pic_alp[\"ID\"] =='Pic-RUS_04-m_Pr-T.eaf'].index, inplace = True)\n",
    "df_pic_alp.drop(df_pic_alp.loc[df_pic_alp[\"ID\"] =='Pic-RUS_04-m_Ski-R.eaf'].index, inplace = True)\n",
    "df_pic_alp.drop(df_pic_alp.loc[df_pic_alp[\"ID\"] =='Pic-RUS_04-m_Ski-T.eaf'].index, inplace = True)\n",
    "df_pic_alp.drop(df_pic_alp.loc[df_pic_alp[\"ID\"] =='Pic-RUS_05-m_Pr-R.eaf'].index, inplace = True)\n",
    "df_pic_alp.drop(df_pic_alp.loc[df_pic_alp[\"ID\"] =='Pic-RUS_05-m_Ski-R.eaf'].index, inplace = True)\n",
    "df_pic_alp.drop(df_pic_alp.loc[df_pic_alp[\"ID\"] =='Pic-RUS_06-f_Pr-T.eaf'].index, inplace = True)\n",
    "df_pic_alp.drop(df_pic_alp.loc[df_pic_alp[\"ID\"] =='Pic-RUS_06-f_Ski-R.eaf'].index, inplace = True)\n",
    "df_pic_alp.drop(df_pic_alp.loc[df_pic_alp[\"ID\"] =='Pic-RUS_09-f_Pr-R.eaf'].index, inplace = True)\n",
    "df_pic_alp.drop(df_pic_alp.loc[df_pic_alp[\"ID\"] =='Pic-RUS_09-f_Pr-T.eaf'].index, inplace = True)\n",
    "df_pic_alp.drop(df_pic_alp.loc[df_pic_alp[\"ID\"] =='Pic-RUS_09-f_Ski-R.eaf'].index, inplace = True)\n",
    "df_pic_alp.drop(df_pic_alp.loc[df_pic_alp[\"ID\"] =='Pic-RUS_09-f_Ski-T.eaf'].index, inplace = True)\n",
    "df_pic_alp.drop(df_pic_alp.loc[df_pic_alp[\"ID\"] =='Pic-RUS_10-f_Pr-R.eaf'].index, inplace = True)\n",
    "df_pic_alp.drop(df_pic_alp.loc[df_pic_alp[\"ID\"] =='Pic-RUS_10-f_Ski-R.eaf'].index, inplace = True)"
   ]
  },
  {
   "cell_type": "code",
   "execution_count": 9,
   "metadata": {},
   "outputs": [
    {
     "data": {
      "text/plain": [
       "(506, 2)"
      ]
     },
     "execution_count": 9,
     "metadata": {},
     "output_type": "execute_result"
    }
   ],
   "source": [
    "df_pic_alp.shape"
   ]
  },
  {
   "cell_type": "code",
   "execution_count": 10,
   "metadata": {},
   "outputs": [],
   "source": [
    "df_sib_alp.drop(df_sib_alp.loc[df_sib_alp[\"ID\"] =='Sib_02-f.eaf'].index, inplace = True)\n",
    "df_sib_alp.drop(df_sib_alp.loc[df_sib_alp[\"ID\"] =='Sib_03-m.eaf'].index, inplace = True)\n",
    "df_sib_alp.drop(df_sib_alp.loc[df_sib_alp[\"ID\"] =='Sib_04-m.eaf'].index, inplace = True)\n",
    "df_sib_alp.drop(df_sib_alp.loc[df_sib_alp[\"ID\"] =='Sib_06-f.eaf'].index, inplace = True)\n",
    "df_sib_alp.drop(df_sib_alp.loc[df_sib_alp[\"ID\"] =='Sib_08-f.eaf'].index, inplace = True)\n",
    "df_sib_alp.drop(df_sib_alp.loc[df_sib_alp[\"ID\"] =='Sib_09-m.eaf'].index, inplace = True)\n",
    "df_sib_alp.drop(df_sib_alp.loc[df_sib_alp[\"ID\"] =='Sib_10-m.eaf'].index, inplace = True)\n",
    "df_sib_alp.drop(df_sib_alp.loc[df_sib_alp[\"ID\"] =='Sib_11-m.eaf'].index, inplace = True)\n",
    "df_sib_alp.drop(df_sib_alp.loc[df_sib_alp[\"ID\"] =='Sib_14-f.eaf'].index, inplace = True)\n",
    "df_sib_alp.drop(df_sib_alp.loc[df_sib_alp[\"ID\"] =='Sib_14-f.eaf'].index, inplace = True)"
   ]
  },
  {
   "cell_type": "code",
   "execution_count": 11,
   "metadata": {},
   "outputs": [
    {
     "data": {
      "text/plain": [
       "(702, 2)"
      ]
     },
     "execution_count": 11,
     "metadata": {},
     "output_type": "execute_result"
    }
   ],
   "source": [
    "df_sib_alp.shape"
   ]
  },
  {
   "cell_type": "code",
   "execution_count": 12,
   "metadata": {},
   "outputs": [],
   "source": [
    "df_nds_alp.drop(df_nds_alp.loc[df_nds_alp[\"ID\"] =='NDS_001-f-z.eaf'].index, inplace = True)\n",
    "df_nds_alp.drop(df_nds_alp.loc[df_nds_alp[\"ID\"] =='NDS_003-f-z.eaf'].index, inplace = True)\n",
    "df_nds_alp.drop(df_nds_alp.loc[df_nds_alp[\"ID\"] =='NDS_004-m-z.eaf'].index, inplace = True)\n",
    "df_nds_alp.drop(df_nds_alp.loc[df_nds_alp[\"ID\"] =='NDS_005-m-z.eaf'].index, inplace = True)\n",
    "df_nds_alp.drop(df_nds_alp.loc[df_nds_alp[\"ID\"] =='NDS_009-f-z.eaf'].index, inplace = True)\n",
    "df_nds_alp.drop(df_nds_alp.loc[df_nds_alp[\"ID\"] =='NDS_010-m-z.eaf'].index, inplace = True)\n",
    "df_nds_alp.drop(df_nds_alp.loc[df_nds_alp[\"ID\"] =='NDS_012-m-z.eaf'].index, inplace = True)\n",
    "df_nds_alp.drop(df_nds_alp.loc[df_nds_alp[\"ID\"] =='NDS_013-m-z.eaf'].index, inplace = True)\n",
    "df_nds_alp.drop(df_nds_alp.loc[df_nds_alp[\"ID\"] =='NDS_014-m-z.eaf'].index, inplace = True)\n",
    "df_nds_alp.drop(df_nds_alp.loc[df_nds_alp[\"ID\"] =='NDS_015-m-z.eaf'].index, inplace = True)\n",
    "df_nds_alp.drop(df_nds_alp.loc[df_nds_alp[\"ID\"] =='NDS_016-m-z.eaf'].index, inplace = True)\n",
    "df_nds_alp.drop(df_nds_alp.loc[df_nds_alp[\"ID\"] =='NDS_017-f-z.eaf'].index, inplace = True)\n",
    "df_nds_alp.drop(df_nds_alp.loc[df_nds_alp[\"ID\"] =='NDS_018-m-z.eaf'].index, inplace = True)\n",
    "df_nds_alp.drop(df_nds_alp.loc[df_nds_alp[\"ID\"] =='NDS_022-m-z.eaf'].index, inplace = True)\n",
    "df_nds_alp.drop(df_nds_alp.loc[df_nds_alp[\"ID\"] =='NDS_028-m-z.eaf'].index, inplace = True)\n",
    "df_nds_alp.drop(df_nds_alp.loc[df_nds_alp[\"ID\"] =='NDS_030-f-z.eaf'].index, inplace = True)\n",
    "df_nds_alp.drop(df_nds_alp.loc[df_nds_alp[\"ID\"] =='NDS_031-f-z.eaf'].index, inplace = True)\n",
    "df_nds_alp.drop(df_nds_alp.loc[df_nds_alp[\"ID\"] =='NDS_032-m-z.eaf'].index, inplace = True)\n",
    "df_nds_alp.drop(df_nds_alp.loc[df_nds_alp[\"ID\"] =='NDS_034-m-z.eaf'].index, inplace = True)"
   ]
  },
  {
   "cell_type": "code",
   "execution_count": 13,
   "metadata": {},
   "outputs": [
    {
     "data": {
      "text/plain": [
       "(303, 2)"
      ]
     },
     "execution_count": 13,
     "metadata": {},
     "output_type": "execute_result"
    }
   ],
   "source": [
    "df_nds_alp.shape"
   ]
  },
  {
   "cell_type": "code",
   "execution_count": 14,
   "metadata": {},
   "outputs": [],
   "source": [
    "#Сохраняем в csv-файл золотой стандарта для kaldi:\n",
    "df_pic_alp.to_csv('Pic_alp_GS.csv', index=False)\n",
    "df_sib_alp.to_csv('Sib_alp_GS.csv', index=False)\n",
    "df_nds_alp.to_csv('NDS_alp_GS.csv', index=False)"
   ]
  },
  {
   "cell_type": "code",
   "execution_count": 15,
   "metadata": {},
   "outputs": [],
   "source": [
    "#Создаем копию золотого стандарта для распознанной речи с abc:\n",
    "\n",
    "df_pic_abc = df_pic.copy()\n",
    "df_sib_abc = df_sib.copy()\n",
    "df_nds_abc = df_nds.copy()"
   ]
  },
  {
   "cell_type": "code",
   "execution_count": 16,
   "metadata": {},
   "outputs": [
    {
     "name": "stdout",
     "output_type": "stream",
     "text": [
      "(994, 2)\n",
      "(1227, 2)\n",
      "(730, 2)\n"
     ]
    }
   ],
   "source": [
    "print(df_pic_abc.shape)\n",
    "print(df_sib_abc.shape)\n",
    "print(df_nds_abc.shape)"
   ]
  },
  {
   "cell_type": "code",
   "execution_count": 17,
   "metadata": {},
   "outputs": [],
   "source": [
    "#Выбрасываем из датасета файлы объемом больше 10mb (nt[техническое ограничение у веб-версии abc): \n",
    "#Корректируем золотой стандарт только для sib и nds. Pic распознан полностью.\n",
    "\n",
    "df_sib_abc.drop(df_sib_abc.loc[df_sib_abc[\"ID\"] =='Sib_01-f.eaf'].index, inplace = True)\n",
    "df_sib_abc.drop(df_sib_abc.loc[df_sib_abc[\"ID\"] =='Sib_02-f.eaf'].index, inplace = True)\n",
    "df_sib_abc.drop(df_sib_abc.loc[df_sib_abc[\"ID\"] =='Sib_07-f.eaf'].index, inplace = True)\n",
    "df_sib_abc.drop(df_sib_abc.loc[df_sib_abc[\"ID\"] =='Sib_08-f.eaf'].index, inplace = True)\n",
    "df_sib_abc.drop(df_sib_abc.loc[df_sib_abc[\"ID\"] =='Sib_09-m.eaf'].index, inplace = True)\n",
    "df_sib_abc.drop(df_sib_abc.loc[df_sib_abc[\"ID\"] =='Sib_10-m.eaf'].index, inplace = True)\n",
    "df_sib_abc.drop(df_sib_abc.loc[df_sib_abc[\"ID\"] =='Sib_11-m.eaf'].index, inplace = True)\n",
    "df_sib_abc.drop(df_sib_abc.loc[df_sib_abc[\"ID\"] =='Sib_13-f.eaf'].index, inplace = True)\n",
    "df_sib_abc.drop(df_sib_abc.loc[df_sib_abc[\"ID\"] =='Sib_15-f.eaf'].index, inplace = True)\n",
    "df_sib_abc.drop(df_sib_abc.loc[df_sib_abc[\"ID\"] =='Sib_17-m.eaf'].index, inplace = True)"
   ]
  },
  {
   "cell_type": "code",
   "execution_count": 18,
   "metadata": {},
   "outputs": [
    {
     "data": {
      "text/plain": [
       "(403, 2)"
      ]
     },
     "execution_count": 18,
     "metadata": {},
     "output_type": "execute_result"
    }
   ],
   "source": [
    "df_sib_abc.shape"
   ]
  },
  {
   "cell_type": "code",
   "execution_count": 19,
   "metadata": {},
   "outputs": [],
   "source": [
    "df_nds_abc.drop(df_nds_abc.loc[df_nds_abc[\"ID\"] =='NDS_025-f-z.eaf'].index, inplace = True)"
   ]
  },
  {
   "cell_type": "code",
   "execution_count": 20,
   "metadata": {},
   "outputs": [
    {
     "data": {
      "text/plain": [
       "(696, 2)"
      ]
     },
     "execution_count": 20,
     "metadata": {},
     "output_type": "execute_result"
    }
   ],
   "source": [
    "df_nds_abc.shape"
   ]
  },
  {
   "cell_type": "code",
   "execution_count": 21,
   "metadata": {},
   "outputs": [],
   "source": [
    "#Сохраняем в csv-файл золотой стандарта для abc:\n",
    "df_pic_abc.to_csv('Pic_abc_GS.csv', index=False)\n",
    "df_sib_abc.to_csv('Sib_abc_GS.csv', index=False)\n",
    "df_nds_abc.to_csv('NDS_abc_GS.csv', index=False)"
   ]
  },
  {
   "cell_type": "code",
   "execution_count": null,
   "metadata": {},
   "outputs": [],
   "source": []
  }
 ],
 "metadata": {
  "kernelspec": {
   "display_name": "Python 3",
   "language": "python",
   "name": "python3"
  },
  "language_info": {
   "codemirror_mode": {
    "name": "ipython",
    "version": 3
   },
   "file_extension": ".py",
   "mimetype": "text/x-python",
   "name": "python",
   "nbconvert_exporter": "python",
   "pygments_lexer": "ipython3",
   "version": "3.7.3"
  }
 },
 "nbformat": 4,
 "nbformat_minor": 2
}
